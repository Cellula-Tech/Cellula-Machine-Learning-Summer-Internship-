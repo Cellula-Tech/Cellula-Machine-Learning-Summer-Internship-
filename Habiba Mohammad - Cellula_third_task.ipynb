{
 "cells": [
  {
   "cell_type": "markdown",
   "id": "2955eae5",
   "metadata": {},
   "source": [
    "## Import The Needed Libraries\n"
   ]
  },
  {
   "cell_type": "code",
   "execution_count": 426,
   "id": "33800c38",
   "metadata": {},
   "outputs": [],
   "source": [
    "import pandas as pd\n",
    "import numpy as np\n",
    "import re\n",
    "\n",
    "import matplotlib.pyplot as plt\n",
    "%matplotlib inline\n",
    "import seaborn as sns\n",
    "from sklearn.preprocessing import LabelEncoder\n",
    "\n",
    "from sklearn.feature_selection import SelectKBest, f_classif\n",
    "from sklearn.model_selection import train_test_split\n",
    "\n",
    "\n",
    "from sklearn.model_selection import GridSearchCV\n",
    "from sklearn.linear_model import LogisticRegression\n",
    "from sklearn.neighbors import KNeighborsClassifier\n",
    "from sklearn.ensemble import RandomForestClassifier\n",
    "from sklearn.metrics import accuracy_score, confusion_matrix, classification_report\n",
    "from sklearn.model_selection import cross_val_score\n",
    "from sklearn.feature_selection import VarianceThreshold\n",
    "\n",
    "import joblib\n",
    "\n",
    "import warnings\n",
    "warnings.filterwarnings('ignore')\n",
    "\n"
   ]
  },
  {
   "cell_type": "markdown",
   "id": "77ae8d6a",
   "metadata": {},
   "source": [
    "## Import Our Dataset"
   ]
  },
  {
   "cell_type": "code",
   "execution_count": 449,
   "id": "8ddc944a",
   "metadata": {},
   "outputs": [],
   "source": [
    "data = pd.read_csv(\"D:\\cellula/first inten project.csv\")"
   ]
  },
  {
   "cell_type": "code",
   "execution_count": 450,
   "id": "b3ae0021",
   "metadata": {
    "scrolled": true
   },
   "outputs": [
    {
     "data": {
      "text/html": [
       "<div>\n",
       "<style scoped>\n",
       "    .dataframe tbody tr th:only-of-type {\n",
       "        vertical-align: middle;\n",
       "    }\n",
       "\n",
       "    .dataframe tbody tr th {\n",
       "        vertical-align: top;\n",
       "    }\n",
       "\n",
       "    .dataframe thead th {\n",
       "        text-align: right;\n",
       "    }\n",
       "</style>\n",
       "<table border=\"1\" class=\"dataframe\">\n",
       "  <thead>\n",
       "    <tr style=\"text-align: right;\">\n",
       "      <th></th>\n",
       "      <th>Booking_ID</th>\n",
       "      <th>number of adults</th>\n",
       "      <th>number of children</th>\n",
       "      <th>number of weekend nights</th>\n",
       "      <th>number of week nights</th>\n",
       "      <th>type of meal</th>\n",
       "      <th>car parking space</th>\n",
       "      <th>room type</th>\n",
       "      <th>lead time</th>\n",
       "      <th>market segment type</th>\n",
       "      <th>repeated</th>\n",
       "      <th>P-C</th>\n",
       "      <th>P-not-C</th>\n",
       "      <th>average price</th>\n",
       "      <th>special requests</th>\n",
       "      <th>date of reservation</th>\n",
       "      <th>booking status</th>\n",
       "    </tr>\n",
       "  </thead>\n",
       "  <tbody>\n",
       "    <tr>\n",
       "      <th>0</th>\n",
       "      <td>INN00001</td>\n",
       "      <td>1</td>\n",
       "      <td>1</td>\n",
       "      <td>2</td>\n",
       "      <td>5</td>\n",
       "      <td>Meal Plan 1</td>\n",
       "      <td>0</td>\n",
       "      <td>Room_Type 1</td>\n",
       "      <td>224</td>\n",
       "      <td>Offline</td>\n",
       "      <td>0</td>\n",
       "      <td>0</td>\n",
       "      <td>0</td>\n",
       "      <td>88.00</td>\n",
       "      <td>0</td>\n",
       "      <td>10/2/2015</td>\n",
       "      <td>Not_Canceled</td>\n",
       "    </tr>\n",
       "    <tr>\n",
       "      <th>1</th>\n",
       "      <td>INN00002</td>\n",
       "      <td>1</td>\n",
       "      <td>0</td>\n",
       "      <td>1</td>\n",
       "      <td>3</td>\n",
       "      <td>Not Selected</td>\n",
       "      <td>0</td>\n",
       "      <td>Room_Type 1</td>\n",
       "      <td>5</td>\n",
       "      <td>Online</td>\n",
       "      <td>0</td>\n",
       "      <td>0</td>\n",
       "      <td>0</td>\n",
       "      <td>106.68</td>\n",
       "      <td>1</td>\n",
       "      <td>11/6/2018</td>\n",
       "      <td>Not_Canceled</td>\n",
       "    </tr>\n",
       "    <tr>\n",
       "      <th>2</th>\n",
       "      <td>INN00003</td>\n",
       "      <td>2</td>\n",
       "      <td>1</td>\n",
       "      <td>1</td>\n",
       "      <td>3</td>\n",
       "      <td>Meal Plan 1</td>\n",
       "      <td>0</td>\n",
       "      <td>Room_Type 1</td>\n",
       "      <td>1</td>\n",
       "      <td>Online</td>\n",
       "      <td>0</td>\n",
       "      <td>0</td>\n",
       "      <td>0</td>\n",
       "      <td>50.00</td>\n",
       "      <td>0</td>\n",
       "      <td>2/28/2018</td>\n",
       "      <td>Canceled</td>\n",
       "    </tr>\n",
       "    <tr>\n",
       "      <th>3</th>\n",
       "      <td>INN00004</td>\n",
       "      <td>1</td>\n",
       "      <td>0</td>\n",
       "      <td>0</td>\n",
       "      <td>2</td>\n",
       "      <td>Meal Plan 1</td>\n",
       "      <td>0</td>\n",
       "      <td>Room_Type 1</td>\n",
       "      <td>211</td>\n",
       "      <td>Online</td>\n",
       "      <td>0</td>\n",
       "      <td>0</td>\n",
       "      <td>0</td>\n",
       "      <td>100.00</td>\n",
       "      <td>1</td>\n",
       "      <td>5/20/2017</td>\n",
       "      <td>Canceled</td>\n",
       "    </tr>\n",
       "    <tr>\n",
       "      <th>4</th>\n",
       "      <td>INN00005</td>\n",
       "      <td>1</td>\n",
       "      <td>0</td>\n",
       "      <td>1</td>\n",
       "      <td>2</td>\n",
       "      <td>Not Selected</td>\n",
       "      <td>0</td>\n",
       "      <td>Room_Type 1</td>\n",
       "      <td>48</td>\n",
       "      <td>Online</td>\n",
       "      <td>0</td>\n",
       "      <td>0</td>\n",
       "      <td>0</td>\n",
       "      <td>77.00</td>\n",
       "      <td>0</td>\n",
       "      <td>4/11/2018</td>\n",
       "      <td>Canceled</td>\n",
       "    </tr>\n",
       "    <tr>\n",
       "      <th>5</th>\n",
       "      <td>INN00006</td>\n",
       "      <td>1</td>\n",
       "      <td>0</td>\n",
       "      <td>0</td>\n",
       "      <td>2</td>\n",
       "      <td>Meal Plan 2</td>\n",
       "      <td>0</td>\n",
       "      <td>Room_Type 1</td>\n",
       "      <td>346</td>\n",
       "      <td>Offline</td>\n",
       "      <td>0</td>\n",
       "      <td>0</td>\n",
       "      <td>0</td>\n",
       "      <td>100.00</td>\n",
       "      <td>1</td>\n",
       "      <td>9/13/2016</td>\n",
       "      <td>Canceled</td>\n",
       "    </tr>\n",
       "    <tr>\n",
       "      <th>6</th>\n",
       "      <td>INN00007</td>\n",
       "      <td>1</td>\n",
       "      <td>1</td>\n",
       "      <td>1</td>\n",
       "      <td>4</td>\n",
       "      <td>Meal Plan 1</td>\n",
       "      <td>0</td>\n",
       "      <td>Room_Type 1</td>\n",
       "      <td>34</td>\n",
       "      <td>Online</td>\n",
       "      <td>0</td>\n",
       "      <td>0</td>\n",
       "      <td>0</td>\n",
       "      <td>107.55</td>\n",
       "      <td>1</td>\n",
       "      <td>10/15/2017</td>\n",
       "      <td>Not_Canceled</td>\n",
       "    </tr>\n",
       "    <tr>\n",
       "      <th>7</th>\n",
       "      <td>INN00008</td>\n",
       "      <td>3</td>\n",
       "      <td>0</td>\n",
       "      <td>1</td>\n",
       "      <td>3</td>\n",
       "      <td>Meal Plan 1</td>\n",
       "      <td>0</td>\n",
       "      <td>Room_Type 4</td>\n",
       "      <td>83</td>\n",
       "      <td>Online</td>\n",
       "      <td>0</td>\n",
       "      <td>0</td>\n",
       "      <td>0</td>\n",
       "      <td>105.61</td>\n",
       "      <td>1</td>\n",
       "      <td>12/26/2018</td>\n",
       "      <td>Not_Canceled</td>\n",
       "    </tr>\n",
       "    <tr>\n",
       "      <th>8</th>\n",
       "      <td>INN00009</td>\n",
       "      <td>1</td>\n",
       "      <td>1</td>\n",
       "      <td>0</td>\n",
       "      <td>4</td>\n",
       "      <td>Meal Plan 1</td>\n",
       "      <td>0</td>\n",
       "      <td>Room_Type 1</td>\n",
       "      <td>121</td>\n",
       "      <td>Offline</td>\n",
       "      <td>0</td>\n",
       "      <td>0</td>\n",
       "      <td>0</td>\n",
       "      <td>96.90</td>\n",
       "      <td>1</td>\n",
       "      <td>7/6/2018</td>\n",
       "      <td>Not_Canceled</td>\n",
       "    </tr>\n",
       "    <tr>\n",
       "      <th>9</th>\n",
       "      <td>INN00010</td>\n",
       "      <td>2</td>\n",
       "      <td>0</td>\n",
       "      <td>0</td>\n",
       "      <td>5</td>\n",
       "      <td>Meal Plan 1</td>\n",
       "      <td>0</td>\n",
       "      <td>Room_Type 4</td>\n",
       "      <td>44</td>\n",
       "      <td>Online</td>\n",
       "      <td>0</td>\n",
       "      <td>0</td>\n",
       "      <td>0</td>\n",
       "      <td>133.44</td>\n",
       "      <td>3</td>\n",
       "      <td>10/18/2018</td>\n",
       "      <td>Not_Canceled</td>\n",
       "    </tr>\n",
       "  </tbody>\n",
       "</table>\n",
       "</div>"
      ],
      "text/plain": [
       "  Booking_ID  number of adults  number of children  number of weekend nights  \\\n",
       "0   INN00001                 1                   1                         2   \n",
       "1   INN00002                 1                   0                         1   \n",
       "2   INN00003                 2                   1                         1   \n",
       "3   INN00004                 1                   0                         0   \n",
       "4   INN00005                 1                   0                         1   \n",
       "5   INN00006                 1                   0                         0   \n",
       "6   INN00007                 1                   1                         1   \n",
       "7   INN00008                 3                   0                         1   \n",
       "8   INN00009                 1                   1                         0   \n",
       "9   INN00010                 2                   0                         0   \n",
       "\n",
       "   number of week nights  type of meal  car parking space    room type  \\\n",
       "0                      5   Meal Plan 1                  0  Room_Type 1   \n",
       "1                      3  Not Selected                  0  Room_Type 1   \n",
       "2                      3   Meal Plan 1                  0  Room_Type 1   \n",
       "3                      2   Meal Plan 1                  0  Room_Type 1   \n",
       "4                      2  Not Selected                  0  Room_Type 1   \n",
       "5                      2   Meal Plan 2                  0  Room_Type 1   \n",
       "6                      4   Meal Plan 1                  0  Room_Type 1   \n",
       "7                      3   Meal Plan 1                  0  Room_Type 4   \n",
       "8                      4   Meal Plan 1                  0  Room_Type 1   \n",
       "9                      5   Meal Plan 1                  0  Room_Type 4   \n",
       "\n",
       "   lead time market segment type  repeated  P-C  P-not-C  average price   \\\n",
       "0        224             Offline         0    0        0           88.00   \n",
       "1          5              Online         0    0        0          106.68   \n",
       "2          1              Online         0    0        0           50.00   \n",
       "3        211              Online         0    0        0          100.00   \n",
       "4         48              Online         0    0        0           77.00   \n",
       "5        346             Offline         0    0        0          100.00   \n",
       "6         34              Online         0    0        0          107.55   \n",
       "7         83              Online         0    0        0          105.61   \n",
       "8        121             Offline         0    0        0           96.90   \n",
       "9         44              Online         0    0        0          133.44   \n",
       "\n",
       "   special requests date of reservation booking status  \n",
       "0                 0           10/2/2015   Not_Canceled  \n",
       "1                 1           11/6/2018   Not_Canceled  \n",
       "2                 0           2/28/2018       Canceled  \n",
       "3                 1           5/20/2017       Canceled  \n",
       "4                 0           4/11/2018       Canceled  \n",
       "5                 1           9/13/2016       Canceled  \n",
       "6                 1          10/15/2017   Not_Canceled  \n",
       "7                 1          12/26/2018   Not_Canceled  \n",
       "8                 1            7/6/2018   Not_Canceled  \n",
       "9                 3          10/18/2018   Not_Canceled  "
      ]
     },
     "execution_count": 450,
     "metadata": {},
     "output_type": "execute_result"
    }
   ],
   "source": [
    "data.head(10)"
   ]
  },
  {
   "cell_type": "markdown",
   "id": "194176e9",
   "metadata": {},
   "source": [
    "## Show some information about the dataset"
   ]
  },
  {
   "cell_type": "code",
   "execution_count": 451,
   "id": "776d8a97",
   "metadata": {},
   "outputs": [
    {
     "data": {
      "text/plain": [
       "Index(['Booking_ID', 'number of adults', 'number of children',\n",
       "       'number of weekend nights', 'number of week nights', 'type of meal',\n",
       "       'car parking space', 'room type', 'lead time', 'market segment type',\n",
       "       'repeated', 'P-C', 'P-not-C', 'average price ', 'special requests',\n",
       "       'date of reservation', 'booking status'],\n",
       "      dtype='object')"
      ]
     },
     "execution_count": 451,
     "metadata": {},
     "output_type": "execute_result"
    }
   ],
   "source": [
    "# Columns names\n",
    "data.columns"
   ]
  },
  {
   "cell_type": "code",
   "execution_count": 452,
   "id": "4ade959b",
   "metadata": {},
   "outputs": [
    {
     "data": {
      "text/plain": [
       "Booking_ID                  36285\n",
       "number of adults                5\n",
       "number of children              6\n",
       "number of weekend nights        8\n",
       "number of week nights          18\n",
       "type of meal                    4\n",
       "car parking space               2\n",
       "room type                       7\n",
       "lead time                     352\n",
       "market segment type             5\n",
       "repeated                        2\n",
       "P-C                             9\n",
       "P-not-C                        59\n",
       "average price                3930\n",
       "special requests                6\n",
       "date of reservation           553\n",
       "booking status                  2\n",
       "dtype: int64"
      ]
     },
     "execution_count": 452,
     "metadata": {},
     "output_type": "execute_result"
    }
   ],
   "source": [
    "# Check for unique values\n",
    "data.nunique()"
   ]
  },
  {
   "cell_type": "code",
   "execution_count": 453,
   "id": "45bfcf8d",
   "metadata": {},
   "outputs": [
    {
     "name": "stdout",
     "output_type": "stream",
     "text": [
      "<class 'pandas.core.frame.DataFrame'>\n",
      "RangeIndex: 36285 entries, 0 to 36284\n",
      "Data columns (total 17 columns):\n",
      " #   Column                    Non-Null Count  Dtype  \n",
      "---  ------                    --------------  -----  \n",
      " 0   Booking_ID                36285 non-null  object \n",
      " 1   number of adults          36285 non-null  int64  \n",
      " 2   number of children        36285 non-null  int64  \n",
      " 3   number of weekend nights  36285 non-null  int64  \n",
      " 4   number of week nights     36285 non-null  int64  \n",
      " 5   type of meal              36285 non-null  object \n",
      " 6   car parking space         36285 non-null  int64  \n",
      " 7   room type                 36285 non-null  object \n",
      " 8   lead time                 36285 non-null  int64  \n",
      " 9   market segment type       36285 non-null  object \n",
      " 10  repeated                  36285 non-null  int64  \n",
      " 11  P-C                       36285 non-null  int64  \n",
      " 12  P-not-C                   36285 non-null  int64  \n",
      " 13  average price             36285 non-null  float64\n",
      " 14  special requests          36285 non-null  int64  \n",
      " 15  date of reservation       36285 non-null  object \n",
      " 16  booking status            36285 non-null  object \n",
      "dtypes: float64(1), int64(10), object(6)\n",
      "memory usage: 4.7+ MB\n"
     ]
    }
   ],
   "source": [
    "# Feature information\n",
    "data.info() #No nulls"
   ]
  },
  {
   "cell_type": "code",
   "execution_count": 454,
   "id": "2e391af4",
   "metadata": {},
   "outputs": [
    {
     "data": {
      "text/html": [
       "<div>\n",
       "<style scoped>\n",
       "    .dataframe tbody tr th:only-of-type {\n",
       "        vertical-align: middle;\n",
       "    }\n",
       "\n",
       "    .dataframe tbody tr th {\n",
       "        vertical-align: top;\n",
       "    }\n",
       "\n",
       "    .dataframe thead th {\n",
       "        text-align: right;\n",
       "    }\n",
       "</style>\n",
       "<table border=\"1\" class=\"dataframe\">\n",
       "  <thead>\n",
       "    <tr style=\"text-align: right;\">\n",
       "      <th></th>\n",
       "      <th>number of adults</th>\n",
       "      <th>number of children</th>\n",
       "      <th>number of weekend nights</th>\n",
       "      <th>number of week nights</th>\n",
       "      <th>car parking space</th>\n",
       "      <th>lead time</th>\n",
       "      <th>repeated</th>\n",
       "      <th>P-C</th>\n",
       "      <th>P-not-C</th>\n",
       "      <th>average price</th>\n",
       "      <th>special requests</th>\n",
       "    </tr>\n",
       "  </thead>\n",
       "  <tbody>\n",
       "    <tr>\n",
       "      <th>count</th>\n",
       "      <td>36285.000000</td>\n",
       "      <td>36285.000000</td>\n",
       "      <td>36285.000000</td>\n",
       "      <td>36285.000000</td>\n",
       "      <td>36285.000000</td>\n",
       "      <td>36285.000000</td>\n",
       "      <td>36285.000000</td>\n",
       "      <td>36285.000000</td>\n",
       "      <td>36285.000000</td>\n",
       "      <td>36285.000000</td>\n",
       "      <td>36285.000000</td>\n",
       "    </tr>\n",
       "    <tr>\n",
       "      <th>mean</th>\n",
       "      <td>1.844839</td>\n",
       "      <td>0.105360</td>\n",
       "      <td>0.810693</td>\n",
       "      <td>2.204602</td>\n",
       "      <td>0.030977</td>\n",
       "      <td>85.239851</td>\n",
       "      <td>0.025630</td>\n",
       "      <td>0.023343</td>\n",
       "      <td>0.153369</td>\n",
       "      <td>103.421636</td>\n",
       "      <td>0.619733</td>\n",
       "    </tr>\n",
       "    <tr>\n",
       "      <th>std</th>\n",
       "      <td>0.518813</td>\n",
       "      <td>0.402704</td>\n",
       "      <td>0.870590</td>\n",
       "      <td>1.410946</td>\n",
       "      <td>0.173258</td>\n",
       "      <td>85.938796</td>\n",
       "      <td>0.158032</td>\n",
       "      <td>0.368281</td>\n",
       "      <td>1.753931</td>\n",
       "      <td>35.086469</td>\n",
       "      <td>0.786262</td>\n",
       "    </tr>\n",
       "    <tr>\n",
       "      <th>min</th>\n",
       "      <td>0.000000</td>\n",
       "      <td>0.000000</td>\n",
       "      <td>0.000000</td>\n",
       "      <td>0.000000</td>\n",
       "      <td>0.000000</td>\n",
       "      <td>0.000000</td>\n",
       "      <td>0.000000</td>\n",
       "      <td>0.000000</td>\n",
       "      <td>0.000000</td>\n",
       "      <td>0.000000</td>\n",
       "      <td>0.000000</td>\n",
       "    </tr>\n",
       "    <tr>\n",
       "      <th>25%</th>\n",
       "      <td>2.000000</td>\n",
       "      <td>0.000000</td>\n",
       "      <td>0.000000</td>\n",
       "      <td>1.000000</td>\n",
       "      <td>0.000000</td>\n",
       "      <td>17.000000</td>\n",
       "      <td>0.000000</td>\n",
       "      <td>0.000000</td>\n",
       "      <td>0.000000</td>\n",
       "      <td>80.300000</td>\n",
       "      <td>0.000000</td>\n",
       "    </tr>\n",
       "    <tr>\n",
       "      <th>50%</th>\n",
       "      <td>2.000000</td>\n",
       "      <td>0.000000</td>\n",
       "      <td>1.000000</td>\n",
       "      <td>2.000000</td>\n",
       "      <td>0.000000</td>\n",
       "      <td>57.000000</td>\n",
       "      <td>0.000000</td>\n",
       "      <td>0.000000</td>\n",
       "      <td>0.000000</td>\n",
       "      <td>99.450000</td>\n",
       "      <td>0.000000</td>\n",
       "    </tr>\n",
       "    <tr>\n",
       "      <th>75%</th>\n",
       "      <td>2.000000</td>\n",
       "      <td>0.000000</td>\n",
       "      <td>2.000000</td>\n",
       "      <td>3.000000</td>\n",
       "      <td>0.000000</td>\n",
       "      <td>126.000000</td>\n",
       "      <td>0.000000</td>\n",
       "      <td>0.000000</td>\n",
       "      <td>0.000000</td>\n",
       "      <td>120.000000</td>\n",
       "      <td>1.000000</td>\n",
       "    </tr>\n",
       "    <tr>\n",
       "      <th>max</th>\n",
       "      <td>4.000000</td>\n",
       "      <td>10.000000</td>\n",
       "      <td>7.000000</td>\n",
       "      <td>17.000000</td>\n",
       "      <td>1.000000</td>\n",
       "      <td>443.000000</td>\n",
       "      <td>1.000000</td>\n",
       "      <td>13.000000</td>\n",
       "      <td>58.000000</td>\n",
       "      <td>540.000000</td>\n",
       "      <td>5.000000</td>\n",
       "    </tr>\n",
       "  </tbody>\n",
       "</table>\n",
       "</div>"
      ],
      "text/plain": [
       "       number of adults  number of children  number of weekend nights  \\\n",
       "count      36285.000000        36285.000000              36285.000000   \n",
       "mean           1.844839            0.105360                  0.810693   \n",
       "std            0.518813            0.402704                  0.870590   \n",
       "min            0.000000            0.000000                  0.000000   \n",
       "25%            2.000000            0.000000                  0.000000   \n",
       "50%            2.000000            0.000000                  1.000000   \n",
       "75%            2.000000            0.000000                  2.000000   \n",
       "max            4.000000           10.000000                  7.000000   \n",
       "\n",
       "       number of week nights  car parking space     lead time      repeated  \\\n",
       "count           36285.000000       36285.000000  36285.000000  36285.000000   \n",
       "mean                2.204602           0.030977     85.239851      0.025630   \n",
       "std                 1.410946           0.173258     85.938796      0.158032   \n",
       "min                 0.000000           0.000000      0.000000      0.000000   \n",
       "25%                 1.000000           0.000000     17.000000      0.000000   \n",
       "50%                 2.000000           0.000000     57.000000      0.000000   \n",
       "75%                 3.000000           0.000000    126.000000      0.000000   \n",
       "max                17.000000           1.000000    443.000000      1.000000   \n",
       "\n",
       "                P-C       P-not-C  average price   special requests  \n",
       "count  36285.000000  36285.000000    36285.000000      36285.000000  \n",
       "mean       0.023343      0.153369      103.421636          0.619733  \n",
       "std        0.368281      1.753931       35.086469          0.786262  \n",
       "min        0.000000      0.000000        0.000000          0.000000  \n",
       "25%        0.000000      0.000000       80.300000          0.000000  \n",
       "50%        0.000000      0.000000       99.450000          0.000000  \n",
       "75%        0.000000      0.000000      120.000000          1.000000  \n",
       "max       13.000000     58.000000      540.000000          5.000000  "
      ]
     },
     "execution_count": 454,
     "metadata": {},
     "output_type": "execute_result"
    }
   ],
   "source": [
    "# Statistical information\n",
    "data.describe()"
   ]
  },
  {
   "cell_type": "code",
   "execution_count": 455,
   "id": "fb3d5ab3",
   "metadata": {},
   "outputs": [
    {
     "data": {
      "text/plain": [
       "(36285, 17)"
      ]
     },
     "execution_count": 455,
     "metadata": {},
     "output_type": "execute_result"
    }
   ],
   "source": [
    "# Number of the rows and cols \n",
    "data.shape"
   ]
  },
  {
   "cell_type": "code",
   "execution_count": 456,
   "id": "21413c67",
   "metadata": {},
   "outputs": [
    {
     "data": {
      "text/plain": [
       "616845"
      ]
     },
     "execution_count": 456,
     "metadata": {},
     "output_type": "execute_result"
    }
   ],
   "source": [
    "# The number of rows times number of columns\n",
    "data.size"
   ]
  },
  {
   "cell_type": "markdown",
   "id": "3e02d043",
   "metadata": {},
   "source": [
    "# 1. Data Preprocessing"
   ]
  },
  {
   "cell_type": "markdown",
   "id": "269826c2",
   "metadata": {},
   "source": [
    "## Data Cleaning"
   ]
  },
  {
   "cell_type": "markdown",
   "id": "44d45abb",
   "metadata": {},
   "source": [
    "### Checking For Nulls"
   ]
  },
  {
   "cell_type": "code",
   "execution_count": 457,
   "id": "962791da",
   "metadata": {},
   "outputs": [
    {
     "data": {
      "text/plain": [
       "Booking_ID                  0\n",
       "number of adults            0\n",
       "number of children          0\n",
       "number of weekend nights    0\n",
       "number of week nights       0\n",
       "type of meal                0\n",
       "car parking space           0\n",
       "room type                   0\n",
       "lead time                   0\n",
       "market segment type         0\n",
       "repeated                    0\n",
       "P-C                         0\n",
       "P-not-C                     0\n",
       "average price               0\n",
       "special requests            0\n",
       "date of reservation         0\n",
       "booking status              0\n",
       "dtype: int64"
      ]
     },
     "execution_count": 457,
     "metadata": {},
     "output_type": "execute_result"
    }
   ],
   "source": [
    "data.isnull().sum()"
   ]
  },
  {
   "cell_type": "markdown",
   "id": "56fd7219",
   "metadata": {},
   "source": [
    "- There is no nulls"
   ]
  },
  {
   "cell_type": "markdown",
   "id": "27ed2f2b",
   "metadata": {},
   "source": [
    "### Checking For Duplicates"
   ]
  },
  {
   "cell_type": "code",
   "execution_count": 458,
   "id": "5d9f54bd",
   "metadata": {},
   "outputs": [
    {
     "data": {
      "text/plain": [
       "0"
      ]
     },
     "execution_count": 458,
     "metadata": {},
     "output_type": "execute_result"
    }
   ],
   "source": [
    "data.duplicated().sum()"
   ]
  },
  {
   "cell_type": "markdown",
   "id": "802493cb",
   "metadata": {},
   "source": [
    "- No duplicates"
   ]
  },
  {
   "cell_type": "markdown",
   "id": "b78baaa9",
   "metadata": {},
   "source": [
    "### Removing Unwanted coloumns"
   ]
  },
  {
   "cell_type": "code",
   "execution_count": 459,
   "id": "b60bd136",
   "metadata": {},
   "outputs": [],
   "source": [
    "data.drop(['Booking_ID'], axis=1, inplace=True)"
   ]
  },
  {
   "cell_type": "markdown",
   "id": "cd7c9b77",
   "metadata": {},
   "source": [
    "- We do not need Booking ID in our prediction."
   ]
  },
  {
   "cell_type": "markdown",
   "id": "6bcc991c",
   "metadata": {},
   "source": [
    "### Data Types"
   ]
  },
  {
   "cell_type": "code",
   "execution_count": 460,
   "id": "81517375",
   "metadata": {},
   "outputs": [
    {
     "data": {
      "text/plain": [
       "number of adults              int64\n",
       "number of children            int64\n",
       "number of weekend nights      int64\n",
       "number of week nights         int64\n",
       "type of meal                 object\n",
       "car parking space             int64\n",
       "room type                    object\n",
       "lead time                     int64\n",
       "market segment type          object\n",
       "repeated                      int64\n",
       "P-C                           int64\n",
       "P-not-C                       int64\n",
       "average price               float64\n",
       "special requests              int64\n",
       "date of reservation          object\n",
       "booking status               object\n",
       "dtype: object"
      ]
     },
     "execution_count": 460,
     "metadata": {},
     "output_type": "execute_result"
    }
   ],
   "source": [
    "data.dtypes"
   ]
  },
  {
   "cell_type": "markdown",
   "id": "6953d599",
   "metadata": {},
   "source": [
    "- So, we can simplify some data types"
   ]
  },
  {
   "cell_type": "markdown",
   "id": "6cbdb06f",
   "metadata": {},
   "source": [
    "### Binarizing the target column"
   ]
  },
  {
   "cell_type": "code",
   "execution_count": 461,
   "id": "6aad7d9a",
   "metadata": {},
   "outputs": [],
   "source": [
    "# For booking status\n",
    "data = data.replace({'Not_Canceled': 0 , 'Canceled': 1})"
   ]
  },
  {
   "cell_type": "markdown",
   "id": "1b9d65b7",
   "metadata": {},
   "source": [
    "### Split date of reservation into year, month and day"
   ]
  },
  {
   "cell_type": "code",
   "execution_count": 462,
   "id": "db15bccb",
   "metadata": {},
   "outputs": [],
   "source": [
    "# Splitting Date into day, month and year separate columns\n",
    "data[[\"day\", \"month\", \"year\"]] = pd.DataFrame(\n",
    "    data[\"date of reservation\"]\n",
    "    .apply(\n",
    "        lambda x: re.split(\"/|-\", x),\n",
    "    )\n",
    "    .to_list(),\n",
    ")"
   ]
  },
  {
   "cell_type": "code",
   "execution_count": 463,
   "id": "de0210c8",
   "metadata": {},
   "outputs": [],
   "source": [
    "#Transform from object to int\n",
    "data[\"day\"] = data[\"day\"].astype(int)\n",
    "data[\"month\"] = data[\"month\"].astype(int)\n",
    "data[\"year\"] = data[\"year\"].astype(int)"
   ]
  },
  {
   "cell_type": "code",
   "execution_count": 464,
   "id": "8a228531",
   "metadata": {},
   "outputs": [],
   "source": [
    "#Drop date of reservation from dataset because we do not need it anymore\n",
    "data.drop(\"date of reservation\", axis=1, inplace=True)"
   ]
  },
  {
   "cell_type": "code",
   "execution_count": 465,
   "id": "98463e32",
   "metadata": {},
   "outputs": [],
   "source": [
    "# Transform average price from float to int data type\n",
    "data[\"average price \"] = data[\"average price \"].round().astype(int)"
   ]
  },
  {
   "cell_type": "code",
   "execution_count": 466,
   "id": "96a871a5",
   "metadata": {},
   "outputs": [
    {
     "data": {
      "text/html": [
       "<div>\n",
       "<style scoped>\n",
       "    .dataframe tbody tr th:only-of-type {\n",
       "        vertical-align: middle;\n",
       "    }\n",
       "\n",
       "    .dataframe tbody tr th {\n",
       "        vertical-align: top;\n",
       "    }\n",
       "\n",
       "    .dataframe thead th {\n",
       "        text-align: right;\n",
       "    }\n",
       "</style>\n",
       "<table border=\"1\" class=\"dataframe\">\n",
       "  <thead>\n",
       "    <tr style=\"text-align: right;\">\n",
       "      <th></th>\n",
       "      <th>number of adults</th>\n",
       "      <th>number of children</th>\n",
       "      <th>number of weekend nights</th>\n",
       "      <th>number of week nights</th>\n",
       "      <th>type of meal</th>\n",
       "      <th>car parking space</th>\n",
       "      <th>room type</th>\n",
       "      <th>lead time</th>\n",
       "      <th>market segment type</th>\n",
       "      <th>repeated</th>\n",
       "      <th>P-C</th>\n",
       "      <th>P-not-C</th>\n",
       "      <th>average price</th>\n",
       "      <th>special requests</th>\n",
       "      <th>booking status</th>\n",
       "      <th>day</th>\n",
       "      <th>month</th>\n",
       "      <th>year</th>\n",
       "    </tr>\n",
       "  </thead>\n",
       "  <tbody>\n",
       "    <tr>\n",
       "      <th>0</th>\n",
       "      <td>1</td>\n",
       "      <td>1</td>\n",
       "      <td>2</td>\n",
       "      <td>5</td>\n",
       "      <td>Meal Plan 1</td>\n",
       "      <td>0</td>\n",
       "      <td>Room_Type 1</td>\n",
       "      <td>224</td>\n",
       "      <td>Offline</td>\n",
       "      <td>0</td>\n",
       "      <td>0</td>\n",
       "      <td>0</td>\n",
       "      <td>88</td>\n",
       "      <td>0</td>\n",
       "      <td>0</td>\n",
       "      <td>10</td>\n",
       "      <td>2</td>\n",
       "      <td>2015</td>\n",
       "    </tr>\n",
       "    <tr>\n",
       "      <th>1</th>\n",
       "      <td>1</td>\n",
       "      <td>0</td>\n",
       "      <td>1</td>\n",
       "      <td>3</td>\n",
       "      <td>Not Selected</td>\n",
       "      <td>0</td>\n",
       "      <td>Room_Type 1</td>\n",
       "      <td>5</td>\n",
       "      <td>Online</td>\n",
       "      <td>0</td>\n",
       "      <td>0</td>\n",
       "      <td>0</td>\n",
       "      <td>107</td>\n",
       "      <td>1</td>\n",
       "      <td>0</td>\n",
       "      <td>11</td>\n",
       "      <td>6</td>\n",
       "      <td>2018</td>\n",
       "    </tr>\n",
       "    <tr>\n",
       "      <th>2</th>\n",
       "      <td>2</td>\n",
       "      <td>1</td>\n",
       "      <td>1</td>\n",
       "      <td>3</td>\n",
       "      <td>Meal Plan 1</td>\n",
       "      <td>0</td>\n",
       "      <td>Room_Type 1</td>\n",
       "      <td>1</td>\n",
       "      <td>Online</td>\n",
       "      <td>0</td>\n",
       "      <td>0</td>\n",
       "      <td>0</td>\n",
       "      <td>50</td>\n",
       "      <td>0</td>\n",
       "      <td>1</td>\n",
       "      <td>2</td>\n",
       "      <td>28</td>\n",
       "      <td>2018</td>\n",
       "    </tr>\n",
       "    <tr>\n",
       "      <th>3</th>\n",
       "      <td>1</td>\n",
       "      <td>0</td>\n",
       "      <td>0</td>\n",
       "      <td>2</td>\n",
       "      <td>Meal Plan 1</td>\n",
       "      <td>0</td>\n",
       "      <td>Room_Type 1</td>\n",
       "      <td>211</td>\n",
       "      <td>Online</td>\n",
       "      <td>0</td>\n",
       "      <td>0</td>\n",
       "      <td>0</td>\n",
       "      <td>100</td>\n",
       "      <td>1</td>\n",
       "      <td>1</td>\n",
       "      <td>5</td>\n",
       "      <td>20</td>\n",
       "      <td>2017</td>\n",
       "    </tr>\n",
       "    <tr>\n",
       "      <th>4</th>\n",
       "      <td>1</td>\n",
       "      <td>0</td>\n",
       "      <td>1</td>\n",
       "      <td>2</td>\n",
       "      <td>Not Selected</td>\n",
       "      <td>0</td>\n",
       "      <td>Room_Type 1</td>\n",
       "      <td>48</td>\n",
       "      <td>Online</td>\n",
       "      <td>0</td>\n",
       "      <td>0</td>\n",
       "      <td>0</td>\n",
       "      <td>77</td>\n",
       "      <td>0</td>\n",
       "      <td>1</td>\n",
       "      <td>4</td>\n",
       "      <td>11</td>\n",
       "      <td>2018</td>\n",
       "    </tr>\n",
       "    <tr>\n",
       "      <th>5</th>\n",
       "      <td>1</td>\n",
       "      <td>0</td>\n",
       "      <td>0</td>\n",
       "      <td>2</td>\n",
       "      <td>Meal Plan 2</td>\n",
       "      <td>0</td>\n",
       "      <td>Room_Type 1</td>\n",
       "      <td>346</td>\n",
       "      <td>Offline</td>\n",
       "      <td>0</td>\n",
       "      <td>0</td>\n",
       "      <td>0</td>\n",
       "      <td>100</td>\n",
       "      <td>1</td>\n",
       "      <td>1</td>\n",
       "      <td>9</td>\n",
       "      <td>13</td>\n",
       "      <td>2016</td>\n",
       "    </tr>\n",
       "    <tr>\n",
       "      <th>6</th>\n",
       "      <td>1</td>\n",
       "      <td>1</td>\n",
       "      <td>1</td>\n",
       "      <td>4</td>\n",
       "      <td>Meal Plan 1</td>\n",
       "      <td>0</td>\n",
       "      <td>Room_Type 1</td>\n",
       "      <td>34</td>\n",
       "      <td>Online</td>\n",
       "      <td>0</td>\n",
       "      <td>0</td>\n",
       "      <td>0</td>\n",
       "      <td>108</td>\n",
       "      <td>1</td>\n",
       "      <td>0</td>\n",
       "      <td>10</td>\n",
       "      <td>15</td>\n",
       "      <td>2017</td>\n",
       "    </tr>\n",
       "    <tr>\n",
       "      <th>7</th>\n",
       "      <td>3</td>\n",
       "      <td>0</td>\n",
       "      <td>1</td>\n",
       "      <td>3</td>\n",
       "      <td>Meal Plan 1</td>\n",
       "      <td>0</td>\n",
       "      <td>Room_Type 4</td>\n",
       "      <td>83</td>\n",
       "      <td>Online</td>\n",
       "      <td>0</td>\n",
       "      <td>0</td>\n",
       "      <td>0</td>\n",
       "      <td>106</td>\n",
       "      <td>1</td>\n",
       "      <td>0</td>\n",
       "      <td>12</td>\n",
       "      <td>26</td>\n",
       "      <td>2018</td>\n",
       "    </tr>\n",
       "    <tr>\n",
       "      <th>8</th>\n",
       "      <td>1</td>\n",
       "      <td>1</td>\n",
       "      <td>0</td>\n",
       "      <td>4</td>\n",
       "      <td>Meal Plan 1</td>\n",
       "      <td>0</td>\n",
       "      <td>Room_Type 1</td>\n",
       "      <td>121</td>\n",
       "      <td>Offline</td>\n",
       "      <td>0</td>\n",
       "      <td>0</td>\n",
       "      <td>0</td>\n",
       "      <td>97</td>\n",
       "      <td>1</td>\n",
       "      <td>0</td>\n",
       "      <td>7</td>\n",
       "      <td>6</td>\n",
       "      <td>2018</td>\n",
       "    </tr>\n",
       "    <tr>\n",
       "      <th>9</th>\n",
       "      <td>2</td>\n",
       "      <td>0</td>\n",
       "      <td>0</td>\n",
       "      <td>5</td>\n",
       "      <td>Meal Plan 1</td>\n",
       "      <td>0</td>\n",
       "      <td>Room_Type 4</td>\n",
       "      <td>44</td>\n",
       "      <td>Online</td>\n",
       "      <td>0</td>\n",
       "      <td>0</td>\n",
       "      <td>0</td>\n",
       "      <td>133</td>\n",
       "      <td>3</td>\n",
       "      <td>0</td>\n",
       "      <td>10</td>\n",
       "      <td>18</td>\n",
       "      <td>2018</td>\n",
       "    </tr>\n",
       "  </tbody>\n",
       "</table>\n",
       "</div>"
      ],
      "text/plain": [
       "   number of adults  number of children  number of weekend nights  \\\n",
       "0                 1                   1                         2   \n",
       "1                 1                   0                         1   \n",
       "2                 2                   1                         1   \n",
       "3                 1                   0                         0   \n",
       "4                 1                   0                         1   \n",
       "5                 1                   0                         0   \n",
       "6                 1                   1                         1   \n",
       "7                 3                   0                         1   \n",
       "8                 1                   1                         0   \n",
       "9                 2                   0                         0   \n",
       "\n",
       "   number of week nights  type of meal  car parking space    room type  \\\n",
       "0                      5   Meal Plan 1                  0  Room_Type 1   \n",
       "1                      3  Not Selected                  0  Room_Type 1   \n",
       "2                      3   Meal Plan 1                  0  Room_Type 1   \n",
       "3                      2   Meal Plan 1                  0  Room_Type 1   \n",
       "4                      2  Not Selected                  0  Room_Type 1   \n",
       "5                      2   Meal Plan 2                  0  Room_Type 1   \n",
       "6                      4   Meal Plan 1                  0  Room_Type 1   \n",
       "7                      3   Meal Plan 1                  0  Room_Type 4   \n",
       "8                      4   Meal Plan 1                  0  Room_Type 1   \n",
       "9                      5   Meal Plan 1                  0  Room_Type 4   \n",
       "\n",
       "   lead time market segment type  repeated  P-C  P-not-C  average price   \\\n",
       "0        224             Offline         0    0        0              88   \n",
       "1          5              Online         0    0        0             107   \n",
       "2          1              Online         0    0        0              50   \n",
       "3        211              Online         0    0        0             100   \n",
       "4         48              Online         0    0        0              77   \n",
       "5        346             Offline         0    0        0             100   \n",
       "6         34              Online         0    0        0             108   \n",
       "7         83              Online         0    0        0             106   \n",
       "8        121             Offline         0    0        0              97   \n",
       "9         44              Online         0    0        0             133   \n",
       "\n",
       "   special requests  booking status  day  month  year  \n",
       "0                 0               0   10      2  2015  \n",
       "1                 1               0   11      6  2018  \n",
       "2                 0               1    2     28  2018  \n",
       "3                 1               1    5     20  2017  \n",
       "4                 0               1    4     11  2018  \n",
       "5                 1               1    9     13  2016  \n",
       "6                 1               0   10     15  2017  \n",
       "7                 1               0   12     26  2018  \n",
       "8                 1               0    7      6  2018  \n",
       "9                 3               0   10     18  2018  "
      ]
     },
     "execution_count": 466,
     "metadata": {},
     "output_type": "execute_result"
    }
   ],
   "source": [
    "data.head(10)"
   ]
  },
  {
   "cell_type": "markdown",
   "id": "15a71429",
   "metadata": {},
   "source": [
    "###  Add column for the total number of individuals in each reservation"
   ]
  },
  {
   "cell_type": "code",
   "execution_count": 467,
   "id": "f7b2867c",
   "metadata": {},
   "outputs": [],
   "source": [
    "data['no of individuals'] = data['number of adults'] + data['number of children']"
   ]
  },
  {
   "cell_type": "markdown",
   "id": "6caac860",
   "metadata": {},
   "source": [
    "# 3. Checking and Handling Outliers "
   ]
  },
  {
   "cell_type": "code",
   "execution_count": 468,
   "id": "e3cdcd14",
   "metadata": {},
   "outputs": [
    {
     "data": {
      "image/png": "[encoded data removed]",
      "text/plain": [
       "<Figure size 864x576 with 1 Axes>"
      ]
     },
     "metadata": {
      "needs_background": "light"
     },
     "output_type": "display_data"
    }
   ],
   "source": [
    "# Create box plots for every variable before dropping outliers\n",
    "data_box = data.drop([\"year\", \"day\"], axis=1) # Visualize boxplot except some cols\n",
    "plt.figure(figsize=(12, 8))\n",
    "sns.set(style=\"darkgrid\")\n",
    "sns.boxplot(data=data_box, orient=\"h\")\n",
    "plt.title(\"Box Plot for Every Variable\")\n",
    "plt.show()\n"
   ]
  },
  {
   "cell_type": "markdown",
   "id": "85502081",
   "metadata": {},
   "source": [
    "- so, there are outliers in lead time and average price cols that will affect the prediction. "
   ]
  },
  {
   "cell_type": "markdown",
   "id": "0f304555",
   "metadata": {},
   "source": [
    "## Handling Outliers Using IQR"
   ]
  },
  {
   "cell_type": "code",
   "execution_count": 469,
   "id": "bea59598",
   "metadata": {},
   "outputs": [],
   "source": [
    "# Removing outliers by Inter Quantile Range method\n",
    "\n",
    "# For lead time\n",
    "for z in ['lead time']:\n",
    "    Q75,Q25 = np.percentile(data.loc[:,z],[75,25])\n",
    "    intr_qr = Q75-Q25\n",
    " \n",
    "    max = Q75+(1.5*intr_qr)\n",
    "    min = Q25-(1.5*intr_qr)\n",
    " \n",
    "    data.loc[data[z] < min,z] = np.nan\n",
    "    data.loc[data[z] > max,z] = np.nan"
   ]
  },
  {
   "cell_type": "code",
   "execution_count": 470,
   "id": "c6ff4c5e",
   "metadata": {},
   "outputs": [],
   "source": [
    "# For average price\n",
    "for z in ['average price ']:\n",
    "    Q75,Q25 = np.percentile(data.loc[:,z],[75,25])\n",
    "    intr_qr = Q75-Q25\n",
    " \n",
    "    max = Q75+(1.5*intr_qr)\n",
    "    min = Q25-(1.5*intr_qr)\n",
    " \n",
    "    data.loc[data[z] < min,z] = np.nan\n",
    "    data.loc[data[z] > max,z] = np.nan"
   ]
  },
  {
   "cell_type": "code",
   "execution_count": 471,
   "id": "cc1e9814",
   "metadata": {},
   "outputs": [
    {
     "data": {
      "text/plain": [
       "number of adults               0\n",
       "number of children             0\n",
       "number of weekend nights       0\n",
       "number of week nights          0\n",
       "type of meal                   0\n",
       "car parking space              0\n",
       "room type                      0\n",
       "lead time                   1332\n",
       "market segment type            0\n",
       "repeated                       0\n",
       "P-C                            0\n",
       "P-not-C                        0\n",
       "average price               1664\n",
       "special requests               0\n",
       "booking status                 0\n",
       "day                            0\n",
       "month                          0\n",
       "year                           0\n",
       "no of individuals              0\n",
       "dtype: int64"
      ]
     },
     "execution_count": 471,
     "metadata": {},
     "output_type": "execute_result"
    }
   ],
   "source": [
    "data.isnull().sum() #Check for nulls "
   ]
  },
  {
   "cell_type": "code",
   "execution_count": 472,
   "id": "90955e39",
   "metadata": {},
   "outputs": [
    {
     "data": {
      "text/plain": [
       "number of adults            0\n",
       "number of children          0\n",
       "number of weekend nights    0\n",
       "number of week nights       0\n",
       "type of meal                0\n",
       "car parking space           0\n",
       "room type                   0\n",
       "lead time                   0\n",
       "market segment type         0\n",
       "repeated                    0\n",
       "P-C                         0\n",
       "P-not-C                     0\n",
       "average price               0\n",
       "special requests            0\n",
       "booking status              0\n",
       "day                         0\n",
       "month                       0\n",
       "year                        0\n",
       "no of individuals           0\n",
       "dtype: int64"
      ]
     },
     "execution_count": 472,
     "metadata": {},
     "output_type": "execute_result"
    }
   ],
   "source": [
    "data = data.dropna(axis = 0) # Drop nulls \n",
    "data.isnull().sum() # Sum all nuls"
   ]
  },
  {
   "cell_type": "code",
   "execution_count": 473,
   "id": "687f5671",
   "metadata": {},
   "outputs": [
    {
     "data": {
      "image/png": "[encoded data removed]",
      "text/plain": [
       "<Figure size 864x576 with 1 Axes>"
      ]
     },
     "metadata": {},
     "output_type": "display_data"
    }
   ],
   "source": [
    "# Create box plots for every variable after dropping outliers\n",
    "data_box = data.drop([\"year\", \"day\"], axis=1)\n",
    "plt.figure(figsize=(12, 8))\n",
    "sns.set(style=\"darkgrid\")\n",
    "sns.boxplot(data=data_box, orient=\"h\")\n",
    "plt.title(\"Box Plot for Every Variable\")\n",
    "plt.show()"
   ]
  },
  {
   "cell_type": "markdown",
   "id": "5363ed5f",
   "metadata": {},
   "source": [
    "- Here we have removed the outliers."
   ]
  },
  {
   "cell_type": "code",
   "execution_count": 474,
   "id": "dac83e6e",
   "metadata": {},
   "outputs": [
    {
     "data": {
      "text/plain": [
       "(33299, 19)"
      ]
     },
     "execution_count": 474,
     "metadata": {},
     "output_type": "execute_result"
    }
   ],
   "source": [
    "data.shape "
   ]
  },
  {
   "cell_type": "markdown",
   "id": "727eb2c6",
   "metadata": {},
   "source": [
    "- Rows have reduced as we removed outliers"
   ]
  },
  {
   "cell_type": "markdown",
   "id": "9c4af60f",
   "metadata": {},
   "source": [
    "# 3. Transformation For The Categorical Variables"
   ]
  },
  {
   "cell_type": "code",
   "execution_count": 475,
   "id": "d532dc1c",
   "metadata": {},
   "outputs": [],
   "source": [
    "cat_features = ['type of meal', 'room type', 'market segment type']\n",
    "lab = LabelEncoder()\n",
    "for col in cat_features:\n",
    "    data[col] = lab.fit_transform(data[col])\n"
   ]
  },
  {
   "cell_type": "markdown",
   "id": "b978806e",
   "metadata": {},
   "source": [
    "### Checking for data types after formatting"
   ]
  },
  {
   "cell_type": "code",
   "execution_count": 476,
   "id": "2c8a2f63",
   "metadata": {},
   "outputs": [
    {
     "data": {
      "text/plain": [
       "number of adults              int64\n",
       "number of children            int64\n",
       "number of weekend nights      int64\n",
       "number of week nights         int64\n",
       "type of meal                  int32\n",
       "car parking space             int64\n",
       "room type                     int32\n",
       "lead time                   float64\n",
       "market segment type           int32\n",
       "repeated                      int64\n",
       "P-C                           int64\n",
       "P-not-C                       int64\n",
       "average price               float64\n",
       "special requests              int64\n",
       "booking status                int64\n",
       "day                           int32\n",
       "month                         int32\n",
       "year                          int32\n",
       "no of individuals             int64\n",
       "dtype: object"
      ]
     },
     "execution_count": 476,
     "metadata": {},
     "output_type": "execute_result"
    }
   ],
   "source": [
    "data.dtypes"
   ]
  },
  {
   "cell_type": "code",
   "execution_count": 477,
   "id": "246370b4",
   "metadata": {},
   "outputs": [
    {
     "data": {
      "text/html": [
       "<div>\n",
       "<style scoped>\n",
       "    .dataframe tbody tr th:only-of-type {\n",
       "        vertical-align: middle;\n",
       "    }\n",
       "\n",
       "    .dataframe tbody tr th {\n",
       "        vertical-align: top;\n",
       "    }\n",
       "\n",
       "    .dataframe thead th {\n",
       "        text-align: right;\n",
       "    }\n",
       "</style>\n",
       "<table border=\"1\" class=\"dataframe\">\n",
       "  <thead>\n",
       "    <tr style=\"text-align: right;\">\n",
       "      <th></th>\n",
       "      <th>number of adults</th>\n",
       "      <th>number of children</th>\n",
       "      <th>number of weekend nights</th>\n",
       "      <th>number of week nights</th>\n",
       "      <th>type of meal</th>\n",
       "      <th>car parking space</th>\n",
       "      <th>room type</th>\n",
       "      <th>lead time</th>\n",
       "      <th>market segment type</th>\n",
       "      <th>repeated</th>\n",
       "      <th>P-C</th>\n",
       "      <th>P-not-C</th>\n",
       "      <th>average price</th>\n",
       "      <th>special requests</th>\n",
       "      <th>booking status</th>\n",
       "      <th>day</th>\n",
       "      <th>month</th>\n",
       "      <th>year</th>\n",
       "      <th>no of individuals</th>\n",
       "    </tr>\n",
       "  </thead>\n",
       "  <tbody>\n",
       "    <tr>\n",
       "      <th>0</th>\n",
       "      <td>1</td>\n",
       "      <td>1</td>\n",
       "      <td>2</td>\n",
       "      <td>5</td>\n",
       "      <td>0</td>\n",
       "      <td>0</td>\n",
       "      <td>0</td>\n",
       "      <td>224.0</td>\n",
       "      <td>3</td>\n",
       "      <td>0</td>\n",
       "      <td>0</td>\n",
       "      <td>0</td>\n",
       "      <td>88.0</td>\n",
       "      <td>0</td>\n",
       "      <td>0</td>\n",
       "      <td>10</td>\n",
       "      <td>2</td>\n",
       "      <td>2015</td>\n",
       "      <td>2</td>\n",
       "    </tr>\n",
       "    <tr>\n",
       "      <th>1</th>\n",
       "      <td>1</td>\n",
       "      <td>0</td>\n",
       "      <td>1</td>\n",
       "      <td>3</td>\n",
       "      <td>2</td>\n",
       "      <td>0</td>\n",
       "      <td>0</td>\n",
       "      <td>5.0</td>\n",
       "      <td>4</td>\n",
       "      <td>0</td>\n",
       "      <td>0</td>\n",
       "      <td>0</td>\n",
       "      <td>107.0</td>\n",
       "      <td>1</td>\n",
       "      <td>0</td>\n",
       "      <td>11</td>\n",
       "      <td>6</td>\n",
       "      <td>2018</td>\n",
       "      <td>1</td>\n",
       "    </tr>\n",
       "    <tr>\n",
       "      <th>2</th>\n",
       "      <td>2</td>\n",
       "      <td>1</td>\n",
       "      <td>1</td>\n",
       "      <td>3</td>\n",
       "      <td>0</td>\n",
       "      <td>0</td>\n",
       "      <td>0</td>\n",
       "      <td>1.0</td>\n",
       "      <td>4</td>\n",
       "      <td>0</td>\n",
       "      <td>0</td>\n",
       "      <td>0</td>\n",
       "      <td>50.0</td>\n",
       "      <td>0</td>\n",
       "      <td>1</td>\n",
       "      <td>2</td>\n",
       "      <td>28</td>\n",
       "      <td>2018</td>\n",
       "      <td>3</td>\n",
       "    </tr>\n",
       "    <tr>\n",
       "      <th>3</th>\n",
       "      <td>1</td>\n",
       "      <td>0</td>\n",
       "      <td>0</td>\n",
       "      <td>2</td>\n",
       "      <td>0</td>\n",
       "      <td>0</td>\n",
       "      <td>0</td>\n",
       "      <td>211.0</td>\n",
       "      <td>4</td>\n",
       "      <td>0</td>\n",
       "      <td>0</td>\n",
       "      <td>0</td>\n",
       "      <td>100.0</td>\n",
       "      <td>1</td>\n",
       "      <td>1</td>\n",
       "      <td>5</td>\n",
       "      <td>20</td>\n",
       "      <td>2017</td>\n",
       "      <td>1</td>\n",
       "    </tr>\n",
       "    <tr>\n",
       "      <th>4</th>\n",
       "      <td>1</td>\n",
       "      <td>0</td>\n",
       "      <td>1</td>\n",
       "      <td>2</td>\n",
       "      <td>2</td>\n",
       "      <td>0</td>\n",
       "      <td>0</td>\n",
       "      <td>48.0</td>\n",
       "      <td>4</td>\n",
       "      <td>0</td>\n",
       "      <td>0</td>\n",
       "      <td>0</td>\n",
       "      <td>77.0</td>\n",
       "      <td>0</td>\n",
       "      <td>1</td>\n",
       "      <td>4</td>\n",
       "      <td>11</td>\n",
       "      <td>2018</td>\n",
       "      <td>1</td>\n",
       "    </tr>\n",
       "    <tr>\n",
       "      <th>6</th>\n",
       "      <td>1</td>\n",
       "      <td>1</td>\n",
       "      <td>1</td>\n",
       "      <td>4</td>\n",
       "      <td>0</td>\n",
       "      <td>0</td>\n",
       "      <td>0</td>\n",
       "      <td>34.0</td>\n",
       "      <td>4</td>\n",
       "      <td>0</td>\n",
       "      <td>0</td>\n",
       "      <td>0</td>\n",
       "      <td>108.0</td>\n",
       "      <td>1</td>\n",
       "      <td>0</td>\n",
       "      <td>10</td>\n",
       "      <td>15</td>\n",
       "      <td>2017</td>\n",
       "      <td>2</td>\n",
       "    </tr>\n",
       "    <tr>\n",
       "      <th>7</th>\n",
       "      <td>3</td>\n",
       "      <td>0</td>\n",
       "      <td>1</td>\n",
       "      <td>3</td>\n",
       "      <td>0</td>\n",
       "      <td>0</td>\n",
       "      <td>3</td>\n",
       "      <td>83.0</td>\n",
       "      <td>4</td>\n",
       "      <td>0</td>\n",
       "      <td>0</td>\n",
       "      <td>0</td>\n",
       "      <td>106.0</td>\n",
       "      <td>1</td>\n",
       "      <td>0</td>\n",
       "      <td>12</td>\n",
       "      <td>26</td>\n",
       "      <td>2018</td>\n",
       "      <td>3</td>\n",
       "    </tr>\n",
       "    <tr>\n",
       "      <th>8</th>\n",
       "      <td>1</td>\n",
       "      <td>1</td>\n",
       "      <td>0</td>\n",
       "      <td>4</td>\n",
       "      <td>0</td>\n",
       "      <td>0</td>\n",
       "      <td>0</td>\n",
       "      <td>121.0</td>\n",
       "      <td>3</td>\n",
       "      <td>0</td>\n",
       "      <td>0</td>\n",
       "      <td>0</td>\n",
       "      <td>97.0</td>\n",
       "      <td>1</td>\n",
       "      <td>0</td>\n",
       "      <td>7</td>\n",
       "      <td>6</td>\n",
       "      <td>2018</td>\n",
       "      <td>2</td>\n",
       "    </tr>\n",
       "    <tr>\n",
       "      <th>9</th>\n",
       "      <td>2</td>\n",
       "      <td>0</td>\n",
       "      <td>0</td>\n",
       "      <td>5</td>\n",
       "      <td>0</td>\n",
       "      <td>0</td>\n",
       "      <td>3</td>\n",
       "      <td>44.0</td>\n",
       "      <td>4</td>\n",
       "      <td>0</td>\n",
       "      <td>0</td>\n",
       "      <td>0</td>\n",
       "      <td>133.0</td>\n",
       "      <td>3</td>\n",
       "      <td>0</td>\n",
       "      <td>10</td>\n",
       "      <td>18</td>\n",
       "      <td>2018</td>\n",
       "      <td>2</td>\n",
       "    </tr>\n",
       "    <tr>\n",
       "      <th>10</th>\n",
       "      <td>1</td>\n",
       "      <td>0</td>\n",
       "      <td>1</td>\n",
       "      <td>0</td>\n",
       "      <td>2</td>\n",
       "      <td>0</td>\n",
       "      <td>0</td>\n",
       "      <td>0.0</td>\n",
       "      <td>4</td>\n",
       "      <td>0</td>\n",
       "      <td>0</td>\n",
       "      <td>0</td>\n",
       "      <td>85.0</td>\n",
       "      <td>0</td>\n",
       "      <td>0</td>\n",
       "      <td>9</td>\n",
       "      <td>11</td>\n",
       "      <td>2018</td>\n",
       "      <td>1</td>\n",
       "    </tr>\n",
       "  </tbody>\n",
       "</table>\n",
       "</div>"
      ],
      "text/plain": [
       "    number of adults  number of children  number of weekend nights  \\\n",
       "0                  1                   1                         2   \n",
       "1                  1                   0                         1   \n",
       "2                  2                   1                         1   \n",
       "3                  1                   0                         0   \n",
       "4                  1                   0                         1   \n",
       "6                  1                   1                         1   \n",
       "7                  3                   0                         1   \n",
       "8                  1                   1                         0   \n",
       "9                  2                   0                         0   \n",
       "10                 1                   0                         1   \n",
       "\n",
       "    number of week nights  type of meal  car parking space  room type  \\\n",
       "0                       5             0                  0          0   \n",
       "1                       3             2                  0          0   \n",
       "2                       3             0                  0          0   \n",
       "3                       2             0                  0          0   \n",
       "4                       2             2                  0          0   \n",
       "6                       4             0                  0          0   \n",
       "7                       3             0                  0          3   \n",
       "8                       4             0                  0          0   \n",
       "9                       5             0                  0          3   \n",
       "10                      0             2                  0          0   \n",
       "\n",
       "    lead time  market segment type  repeated  P-C  P-not-C  average price   \\\n",
       "0       224.0                    3         0    0        0            88.0   \n",
       "1         5.0                    4         0    0        0           107.0   \n",
       "2         1.0                    4         0    0        0            50.0   \n",
       "3       211.0                    4         0    0        0           100.0   \n",
       "4        48.0                    4         0    0        0            77.0   \n",
       "6        34.0                    4         0    0        0           108.0   \n",
       "7        83.0                    4         0    0        0           106.0   \n",
       "8       121.0                    3         0    0        0            97.0   \n",
       "9        44.0                    4         0    0        0           133.0   \n",
       "10        0.0                    4         0    0        0            85.0   \n",
       "\n",
       "    special requests  booking status  day  month  year  no of individuals  \n",
       "0                  0               0   10      2  2015                  2  \n",
       "1                  1               0   11      6  2018                  1  \n",
       "2                  0               1    2     28  2018                  3  \n",
       "3                  1               1    5     20  2017                  1  \n",
       "4                  0               1    4     11  2018                  1  \n",
       "6                  1               0   10     15  2017                  2  \n",
       "7                  1               0   12     26  2018                  3  \n",
       "8                  1               0    7      6  2018                  2  \n",
       "9                  3               0   10     18  2018                  2  \n",
       "10                 0               0    9     11  2018                  1  "
      ]
     },
     "execution_count": 477,
     "metadata": {},
     "output_type": "execute_result"
    }
   ],
   "source": [
    "data.head(10)"
   ]
  },
  {
   "cell_type": "markdown",
   "id": "a4f1aac7",
   "metadata": {},
   "source": [
    "# 4. Feature Engineering"
   ]
  },
  {
   "cell_type": "markdown",
   "id": "eb35a454",
   "metadata": {},
   "source": [
    "## Feature Selection"
   ]
  },
  {
   "cell_type": "markdown",
   "id": "36ee0161",
   "metadata": {},
   "source": [
    "## 1) Using SelectKBest "
   ]
  },
  {
   "cell_type": "code",
   "execution_count": 482,
   "id": "abc138a4",
   "metadata": {},
   "outputs": [],
   "source": [
    "# Split dataset into features and target\n",
    "Features = data.drop([\"booking status\"], axis=1)\n",
    "Target = data[\"booking status\"]"
   ]
  },
  {
   "cell_type": "code",
   "execution_count": 408,
   "id": "775077be",
   "metadata": {},
   "outputs": [
    {
     "name": "stdout",
     "output_type": "stream",
     "text": [
      "lead time: 6752.83\n",
      "special requests: 2126.71\n",
      "market segment type: 718.96\n",
      "average price : 621.22\n",
      "repeated: 342.72\n",
      "number of week nights: 248.66\n",
      "car parking space: 216.83\n",
      "no of individuals: 194.14\n",
      "number of adults: 169.22\n",
      "number of weekend nights: 168.46\n"
     ]
    }
   ],
   "source": [
    "# SelectKBest for feature selection\n",
    "\n",
    "k_best = SelectKBest(score_func=f_classif, k=10) # Use f_classif as score function and put k =10\n",
    "\n",
    "X = k_best.fit_transform(Features, Target) # Fitting (learn from data) and transforming the data \n",
    "y = Target\n",
    "\n",
    "Selected_features_indices = k_best.get_support(indices=True) # Get the indices of the selected features\n",
    "Feature_scores = k_best.scores_  # Get the scores associated with each feature\n",
    "\n",
    "Feature_info = list(zip(Features.columns, Feature_scores)) # Create a list of tuples containing feature names and scores\n",
    "\n",
    "# Sort the feature info in descending order based on scores\n",
    "Sorted_feature_info = sorted(Feature_info, key=lambda x: x[1], reverse=True) \n",
    "\n",
    "for Feature_name, Feature_score in Sorted_feature_info[:10]:\n",
    "    print(f\"{Feature_name}: {Feature_score:.2f}\")"
   ]
  },
  {
   "cell_type": "markdown",
   "id": "0a4199dc",
   "metadata": {},
   "source": [
    "- This method is used to select the top k features based on a given scoring function.\n",
    "- Use ' f_classif ' as score function beause we have a classification problem.\n",
    "- It computes ANOVA F-value between feature and target."
   ]
  },
  {
   "cell_type": "code",
   "execution_count": 409,
   "id": "52f3a284",
   "metadata": {},
   "outputs": [
    {
     "data": {
      "image/png": "[encoded data removed]",
      "text/plain": [
       "<Figure size 720x432 with 1 Axes>"
      ]
     },
     "metadata": {},
     "output_type": "display_data"
    }
   ],
   "source": [
    "# Visualize the relationship between features with their score and the target variable\n",
    "Feature_names, Feature_scores = zip(*Sorted_feature_info[:])\n",
    "\n",
    "# Create a bar chart\n",
    "plt.figure(figsize=(10, 6))\n",
    "plt.barh(Feature_names, Feature_scores)\n",
    "plt.xlabel(\"Feature Importance Score\")\n",
    "plt.title(\"Features Importance Scores\")\n",
    "plt.show()"
   ]
  },
  {
   "cell_type": "markdown",
   "id": "98f12bbe",
   "metadata": {},
   "source": [
    "# 5. Split Data into Train & Test"
   ]
  },
  {
   "cell_type": "code",
   "execution_count": 487,
   "id": "6734888b",
   "metadata": {},
   "outputs": [],
   "source": [
    "# Splitting data into 70% for training and 30% for testing\n",
    "X_train, X_test, y_train, y_test = train_test_split(\n",
    "    Features, Target, test_size=0.3, random_state=5\n",
    ")"
   ]
  },
  {
   "cell_type": "markdown",
   "id": "200a0fff",
   "metadata": {},
   "source": [
    "# 6. Modeling And Accuracy Calculation"
   ]
  },
  {
   "cell_type": "code",
   "execution_count": 488,
   "id": "b86c3821",
   "metadata": {},
   "outputs": [],
   "source": [
    "# To store accuracy of models\n",
    "scores = {}"
   ]
  },
  {
   "cell_type": "markdown",
   "id": "c7d91bd5",
   "metadata": {},
   "source": [
    "## A) Logistic Regression"
   ]
  },
  {
   "cell_type": "markdown",
   "id": "ad68d11e",
   "metadata": {},
   "source": [
    "- Logistic regression is used for binary classification.\n",
    "- Hyperparameter tuning: is the process of finding the optimal values for the hyperparameters of a machine-learning model.\n",
    "- grid search method with cross-validation helps you tune the hyperparameters of machine-learning models to find the best model configuration for logistic regression.\n"
   ]
  },
  {
   "cell_type": "code",
   "execution_count": 412,
   "id": "2f47c4d8",
   "metadata": {},
   "outputs": [
    {
     "name": "stdout",
     "output_type": "stream",
     "text": [
      "Best Parameters: {'C': 100, 'penalty': 'l2'}\n",
      "Best Score: 0.7860055016244675\n",
      "Accuracy: 0.79\n"
     ]
    }
   ],
   "source": [
    "log_reg = LogisticRegression() #  From the scikit-learn library\n",
    "\n",
    "params = {\"C\": [0.01, 0.1, 1, 10, 100], \"penalty\": [\"l1\", \"l2\"]} # The hyperparameters to be tuned \n",
    "\n",
    "# Tune the hyperparameters of the model using grid search\n",
    "grid_search = GridSearchCV(log_reg, param_grid=params, cv=5) # Means 5-fold cross-validation will be used\n",
    "\n",
    "grid_search.fit(X_train, y_train) # Fit the model to the training data\n",
    "\n",
    "print(f\"Best Parameters: {grid_search.best_params_}\")\n",
    "print(f\"Best Score: {grid_search.best_score_}\") # Cross-validation score\n",
    "\n",
    "best_log_reg = grid_search.best_estimator_ # Our model with the best parameters\n",
    "y_pred = best_log_reg.predict(X_test) # Make prediction on the test data\n",
    "\n",
    "print(f\"Accuracy: {accuracy_score(y_test, y_pred):.2f}\")\n",
    "scores[\"Logistic Regression\"] = accuracy_score(y_test, y_pred)"
   ]
  },
  {
   "cell_type": "markdown",
   "id": "4758ed58",
   "metadata": {},
   "source": [
    "Hyperparameters:\n",
    "- C is the inverse of regularization strength; smaller values specify stronger regularization.\n",
    "- penalty specifies the norm used in the penalization (l1 for LASSO and l2 for Ridge)."
   ]
  },
  {
   "cell_type": "code",
   "execution_count": 413,
   "id": "7063dcf7",
   "metadata": {},
   "outputs": [
    {
     "data": {
      "text/plain": [
       "<AxesSubplot:>"
      ]
     },
     "execution_count": 413,
     "metadata": {},
     "output_type": "execute_result"
    },
    {
     "data": {
      "image/png": "[encoded data removed]",
      "text/plain": [
       "<Figure size 432x288 with 2 Axes>"
      ]
     },
     "metadata": {},
     "output_type": "display_data"
    }
   ],
   "source": [
    "# Visualizing confusion matrix\n",
    "sns.heatmap(confusion_matrix(y_test, y_pred), annot=True, cmap=\"Blues\", fmt=\".0f\")"
   ]
  },
  {
   "cell_type": "code",
   "execution_count": 414,
   "id": "d8b7384c",
   "metadata": {},
   "outputs": [
    {
     "name": "stdout",
     "output_type": "stream",
     "text": [
      "Classification Report: \n",
      "              precision    recall  f1-score   support\n",
      "\n",
      "           0       0.82      0.89      0.85      6929\n",
      "           1       0.70      0.55      0.61      3061\n",
      "\n",
      "    accuracy                           0.79      9990\n",
      "   macro avg       0.76      0.72      0.73      9990\n",
      "weighted avg       0.78      0.79      0.78      9990\n",
      "\n"
     ]
    }
   ],
   "source": [
    "# Show classification report of the model\n",
    "print(f\"Classification Report: \\n{classification_report(y_test, y_pred)}\")"
   ]
  },
  {
   "cell_type": "markdown",
   "id": "9ade82d9",
   "metadata": {},
   "source": [
    "## B) K-Nearest Neighbor (KNN)"
   ]
  },
  {
   "cell_type": "markdown",
   "id": "68e121aa",
   "metadata": {},
   "source": [
    "- KNN is one of the most basic essential classification algorithms in machine learning that helps us identify the nearest points.\n",
    "- The value of k represents the number of nearest neighbors that needs to be considered while making prediction.\n",
    "- To measure the similarity between target and training data points, distance is calculated between each of the data points in the dataset and target point."
   ]
  },
  {
   "cell_type": "code",
   "execution_count": 415,
   "id": "43756933",
   "metadata": {},
   "outputs": [
    {
     "name": "stdout",
     "output_type": "stream",
     "text": [
      "Best Parameters: {'n_neighbors': 2}\n",
      "Best Score: 0.8142348987661151\n",
      "Accuracy: 0.82\n"
     ]
    }
   ],
   "source": [
    "knn = KNeighborsClassifier() #  From the scikit-learn library\n",
    "\n",
    "params = {\"n_neighbors\": np.arange(1, 10)}  # The hyperparameter to be tuned\n",
    "\n",
    "# Grid search with cross-validation for hyperparameter tuning\n",
    "grid_search = GridSearchCV(knn, param_grid=params, cv=5) \n",
    "\n",
    "grid_search.fit(X_train, y_train) # Fit the model to the training data\n",
    "\n",
    "print(f\"Best Parameters: {grid_search.best_params_}\") \n",
    "print(f\"Best Score: {grid_search.best_score_}\") # Cross-validation score\n",
    "\n",
    "best_knn = grid_search.best_estimator_ # Our model with the best parameters\n",
    "y_pred = best_knn.predict(X_test)  # Make prediction on the test data\n",
    "\n",
    "print(f\"Accuracy: {accuracy_score(y_test, y_pred):.2f}\")\n",
    "scores[\"KNN\"] = accuracy_score(y_test, y_pred)"
   ]
  },
  {
   "cell_type": "markdown",
   "id": "fb3ac4b6",
   "metadata": {},
   "source": [
    "Hyperparameters:\n",
    "- n_neighbors specifies the number of neighbors to consider for classification. The range is from 1 to 9."
   ]
  },
  {
   "cell_type": "code",
   "execution_count": 416,
   "id": "9f7c9808",
   "metadata": {},
   "outputs": [
    {
     "data": {
      "text/plain": [
       "<AxesSubplot:>"
      ]
     },
     "execution_count": 416,
     "metadata": {},
     "output_type": "execute_result"
    },
    {
     "data": {
      "image/png": "[encoded data removed]",
      "text/plain": [
       "<Figure size 432x288 with 2 Axes>"
      ]
     },
     "metadata": {},
     "output_type": "display_data"
    }
   ],
   "source": [
    "# Visualizing confusion matrix\n",
    "sns.heatmap(confusion_matrix(y_test, y_pred), annot=True, cmap=\"Blues\", fmt=\".0f\")"
   ]
  },
  {
   "cell_type": "code",
   "execution_count": 417,
   "id": "8c700783",
   "metadata": {},
   "outputs": [
    {
     "name": "stdout",
     "output_type": "stream",
     "text": [
      "Classification Report: \n",
      "              precision    recall  f1-score   support\n",
      "\n",
      "           0       0.82      0.95      0.88      6929\n",
      "           1       0.81      0.54      0.65      3061\n",
      "\n",
      "    accuracy                           0.82      9990\n",
      "   macro avg       0.82      0.74      0.77      9990\n",
      "weighted avg       0.82      0.82      0.81      9990\n",
      "\n"
     ]
    }
   ],
   "source": [
    "# Show classification report of the model\n",
    "print(f\"Classification Report: \\n{classification_report(y_test, y_pred)}\")"
   ]
  },
  {
   "cell_type": "markdown",
   "id": "602e9746",
   "metadata": {},
   "source": [
    "## C) Random Forest"
   ]
  },
  {
   "cell_type": "markdown",
   "id": "d7e8f1f5",
   "metadata": {},
   "source": [
    "- Random Forest algorithm is a powerful tree learning technique in Machine Learning. It works by creating a number of Decision Trees during the training phase.\n",
    "- In prediction, the algorithm aggregates the results of all trees by voting (for classification tasks)."
   ]
  },
  {
   "cell_type": "code",
   "execution_count": 486,
   "id": "60a86399",
   "metadata": {},
   "outputs": [
    {
     "name": "stdout",
     "output_type": "stream",
     "text": [
      "Fitting 5 folds for each of 288 candidates, totalling 1440 fits\n",
      "Best Parameters: {'bootstrap': False, 'max_depth': 30, 'min_samples_leaf': 2, 'min_samples_split': 5, 'n_estimators': 100}\n",
      "Accuracy: 0.90\n"
     ]
    }
   ],
   "source": [
    "# Define the parameter grid for hyperparameter tuning\n",
    "param_grid = {\n",
    "    'n_estimators': [10, 20, 50, 100],\n",
    "    'max_depth': [10, 20, 30, None],\n",
    "    'min_samples_split': [2, 5, 10],\n",
    "    'min_samples_leaf': [1, 2, 4],\n",
    "    'bootstrap': [True, False]\n",
    "}\n",
    "\n",
    "# Create a RandomForestClassifier object\n",
    "rf = RandomForestClassifier(random_state=42)\n",
    "\n",
    "# Create a GridSearchCV object with the RandomForestClassifier and the parameter grid\n",
    "grid_search = GridSearchCV(estimator=rf, param_grid=param_grid, cv=5, n_jobs=-1, scoring='accuracy', verbose=2)\n",
    "\n",
    "# Fit the GridSearchCV object to the training data\n",
    "grid_search.fit(X_train, y_train)\n",
    "\n",
    "# Get the best estimator found by GridSearchCV\n",
    "best_rf = grid_search.best_estimator_\n",
    "\n",
    "# Make predictions on the test data using the best estimator\n",
    "y_pred = best_rf.predict(X_test)\n",
    "\n",
    "# Evaluate the model performance\n",
    "accuracy = accuracy_score(y_test, y_pred)\n",
    "print(f\"Best Parameters: {grid_search.best_params_}\")\n",
    "print(f\"Accuracy: {accuracy:.2f}\")\n",
    "\n",
    "# Store the accuracy in a dictionary\n",
    "scores[\"Random Forest\"] = accuracy"
   ]
  },
  {
   "cell_type": "markdown",
   "id": "4c64ca8e",
   "metadata": {},
   "source": [
    "Hyperparameters:\n",
    "- max_depth=20: The maximum depth of each tree in the forest.\n",
    "- n_estimators=100: The number of trees in the forest.\n",
    "- min_samples_split=2: The minimum number of samples required to split an internal node.\n",
    "- min_samples_leaf=1: The minimum number of samples required to be at a leaf node.\n",
    "- bootstrap=True: bootstrap samples are used when building trees."
   ]
  },
  {
   "cell_type": "code",
   "execution_count": 242,
   "id": "8baadfdc",
   "metadata": {},
   "outputs": [
    {
     "name": "stdout",
     "output_type": "stream",
     "text": [
      "0.9653781801021065\n"
     ]
    }
   ],
   "source": [
    "print(rf.score(X_train,y_train))"
   ]
  },
  {
   "cell_type": "code",
   "execution_count": 243,
   "id": "cba108bd",
   "metadata": {},
   "outputs": [
    {
     "data": {
      "text/plain": [
       "<AxesSubplot:>"
      ]
     },
     "execution_count": 243,
     "metadata": {},
     "output_type": "execute_result"
    },
    {
     "data": {
      "image/png": "[encoded data removed]",
      "text/plain": [
       "<Figure size 432x288 with 2 Axes>"
      ]
     },
     "metadata": {},
     "output_type": "display_data"
    }
   ],
   "source": [
    "# Visualizing confusion matrix\n",
    "sns.heatmap(confusion_matrix(y_test, y_pred), annot=True, cmap=\"Blues\", fmt=\".0f\")"
   ]
  },
  {
   "cell_type": "code",
   "execution_count": 244,
   "id": "a907e0d7",
   "metadata": {},
   "outputs": [
    {
     "name": "stdout",
     "output_type": "stream",
     "text": [
      "Classification Report: \n",
      "              precision    recall  f1-score   support\n",
      "\n",
      "           0       0.90      0.93      0.91      6929\n",
      "           1       0.83      0.76      0.79      3061\n",
      "\n",
      "    accuracy                           0.88      9990\n",
      "   macro avg       0.86      0.85      0.85      9990\n",
      "weighted avg       0.88      0.88      0.88      9990\n",
      "\n"
     ]
    }
   ],
   "source": [
    "# Show classification report of the model\n",
    "print(f\"Classification Report: \\n{classification_report(y_test, y_pred)}\")"
   ]
  },
  {
   "cell_type": "markdown",
   "id": "21ef0270",
   "metadata": {},
   "source": [
    "## Models Comparison"
   ]
  },
  {
   "cell_type": "code",
   "execution_count": 245,
   "id": "87fae20a",
   "metadata": {},
   "outputs": [
    {
     "name": "stdout",
     "output_type": "stream",
     "text": [
      "Logistic Regression: 0.7889\n",
      "KNN: 0.8217\n",
      "Random Forest: 0.8777\n"
     ]
    }
   ],
   "source": [
    "# Compare models based on accuracy\n",
    "for model, score in scores.items():\n",
    "    print(f\"{model}: {score:.4f}\")"
   ]
  },
  {
   "cell_type": "markdown",
   "id": "a2eb8913",
   "metadata": {},
   "source": [
    "- As conclusion, the best model for predicting booking status classification is Random Forest with accuracy 0.86."
   ]
  },
  {
   "cell_type": "markdown",
   "id": "b887021e",
   "metadata": {},
   "source": [
    "## 2) Wrapper Method (Forward Selection)"
   ]
  },
  {
   "cell_type": "code",
   "execution_count": 489,
   "id": "360dede1",
   "metadata": {},
   "outputs": [
    {
     "name": "stdout",
     "output_type": "stream",
     "text": [
      "Selected Feature 1: 7, Mean Accuracy: 0.7627\n",
      "Selected Feature 2: 12, Mean Accuracy: 0.7856\n",
      "Selected Feature 3: 13, Mean Accuracy: 0.8368\n",
      "Selected Feature 4: 14, Mean Accuracy: 0.8592\n",
      "Selected Feature 5: 8, Mean Accuracy: 0.8710\n",
      "Selected Feature 6: 15, Mean Accuracy: 0.8828\n",
      "Selected Feature 7: 2, Mean Accuracy: 0.8862\n",
      "Selected Feature 8: 5, Mean Accuracy: 0.8898\n",
      "Selected Feature 9: 6, Mean Accuracy: 0.8910\n",
      "Selected Feature 10: 3, Mean Accuracy: 0.8923\n",
      "Selected Feature 11: 9, Mean Accuracy: 0.8934\n",
      "Selected Feature 12: 4, Mean Accuracy: 0.8930\n",
      "Selected Feature 13: 11, Mean Accuracy: 0.8929\n",
      "Selected feature indices: [7, 12, 13, 14, 8, 15, 2, 5, 6, 3, 9, 4, 11]\n"
     ]
    }
   ],
   "source": [
    "X = np.array(X_train)\n",
    "y = np.array(y_train)\n",
    "\n",
    "# Initialize an empty list to store selected feature indices\n",
    "selected_features = []\n",
    "\n",
    "# Define the machine learning model (in this case, a Random Forest Classifier)\n",
    "model = best_rf\n",
    "\n",
    "# Define the number of features you want to select\n",
    "num_features_to_select = 13\n",
    "\n",
    "while len(selected_features) < num_features_to_select:\n",
    "    best_score = -1\n",
    "    best_feature = None\n",
    "\n",
    "    for feature_idx in range(X.shape[1]):\n",
    "        if feature_idx in selected_features:\n",
    "            continue\n",
    "\n",
    "        # Try adding the feature to the selected set\n",
    "        candidate_features = selected_features + [feature_idx]\n",
    "\n",
    "        # Evaluate the model's performance using cross-validation\n",
    "        scores = cross_val_score(model, X[:, candidate_features], y, cv=5, scoring='accuracy')\n",
    "        mean_score = np.mean(scores)\n",
    "\n",
    "        # Keep track of the best-performing feature\n",
    "        if mean_score > best_score:\n",
    "            best_score = mean_score\n",
    "            best_feature = feature_idx\n",
    "\n",
    "    if best_feature is not None:\n",
    "        selected_features.append(best_feature)\n",
    "        print(f\"Selected Feature {len(selected_features)}: {best_feature}, Mean Accuracy: {best_score:.4f}\")\n",
    "\n",
    "print(\"Selected feature indices:\", selected_features)"
   ]
  },
  {
   "cell_type": "code",
   "execution_count": 376,
   "id": "cc674864",
   "metadata": {},
   "outputs": [
    {
     "name": "stdout",
     "output_type": "stream",
     "text": [
      "Selected feature names: ['lead time', 'average price ', 'special requests', 'day', 'month', 'market segment type', 'number of weekend nights', 'number of week nights', 'car parking space', 'room type', 'P-not-C', 'year', 'no of individuals']\n"
     ]
    }
   ],
   "source": [
    "# The selected features\n",
    "feature_names = Features.columns\n",
    "selected_feature_names = [feature_names[i] for i in selected_features]\n",
    "print(\"Selected feature names:\", selected_feature_names)"
   ]
  },
  {
   "cell_type": "markdown",
   "id": "8e0e1778",
   "metadata": {},
   "source": [
    "## 3) Vriance Threshold"
   ]
  },
  {
   "cell_type": "code",
   "execution_count": 442,
   "id": "0c764ebe",
   "metadata": {},
   "outputs": [],
   "source": [
    "# Split dataset into features and target\n",
    "Features = data.drop([\"booking status\"], axis=1)\n",
    "Target = data[\"booking status\"]"
   ]
  },
  {
   "cell_type": "code",
   "execution_count": 443,
   "id": "830eea29",
   "metadata": {},
   "outputs": [
    {
     "name": "stdout",
     "output_type": "stream",
     "text": [
      "Features kept: ['number of weekend nights', 'number of week nights', 'type of meal', 'room type', 'lead time', 'market segment type', 'P-not-C', 'average price ', 'special requests', 'day', 'month', 'year']\n"
     ]
    }
   ],
   "source": [
    "# Define the VarianceThreshold object with a threshold\n",
    "threshold = 0.4 # This threshold will remove only features with zero variance\n",
    "vt = VarianceThreshold(threshold)\n",
    "\n",
    "# Fit the VarianceThreshold model and transform the data\n",
    "vt.fit(Features)\n",
    "transformed_data = vt.transform(Features)\n",
    "\n",
    "# Get the names of the features that are kept\n",
    "features_kept = Features.columns[vt.get_support()]\n",
    "print(f'Features kept: {features_kept.tolist()}')\n"
   ]
  },
  {
   "cell_type": "code",
   "execution_count": 444,
   "id": "b90d7974",
   "metadata": {},
   "outputs": [
    {
     "data": {
      "text/plain": [
       "12"
      ]
     },
     "execution_count": 444,
     "metadata": {},
     "output_type": "execute_result"
    }
   ],
   "source": [
    "len(features_kept)"
   ]
  },
  {
   "cell_type": "code",
   "execution_count": 445,
   "id": "781615d6",
   "metadata": {},
   "outputs": [],
   "source": [
    "# Convert transformed_data back to a DataFrame if needed\n",
    "transformed_df = pd.DataFrame(transformed_data, columns=features_kept)\n",
    "\n",
    "# Define your target variable\n",
    "y = np.array(Target)\n",
    "\n",
    "# Proceed with your model and feature selection code using transformed_df instead of Features\n",
    "X = np.array(transformed_df)"
   ]
  },
  {
   "cell_type": "code",
   "execution_count": 423,
   "id": "606f4c1b",
   "metadata": {},
   "outputs": [],
   "source": [
    "# Splitting data into 70% for training and 30% for testing\n",
    "X_train, X_test, y_train, y_test = train_test_split(\n",
    "    X, y, test_size=0.3, random_state=5\n",
    ")"
   ]
  },
  {
   "cell_type": "code",
   "execution_count": 446,
   "id": "4f74920c",
   "metadata": {},
   "outputs": [
    {
     "name": "stdout",
     "output_type": "stream",
     "text": [
      "Fitting 5 folds for each of 288 candidates, totalling 1440 fits\n",
      "Best Parameters: {'bootstrap': False, 'max_depth': None, 'min_samples_leaf': 1, 'min_samples_split': 5, 'n_estimators': 100}\n",
      "Accuracy: 0.90\n"
     ]
    }
   ],
   "source": [
    "# Define the parameter grid for hyperparameter tuning\n",
    "param_grid = {\n",
    "    'n_estimators': [10, 20, 50, 100],\n",
    "    'max_depth': [10, 20, 30, None],\n",
    "    'min_samples_split': [2, 5, 10],\n",
    "    'min_samples_leaf': [1, 2, 4],\n",
    "    'bootstrap': [True, False]\n",
    "}\n",
    "\n",
    "# Create a RandomForestClassifier object\n",
    "rf = RandomForestClassifier(random_state=42)\n",
    "\n",
    "# Create a GridSearchCV object with the RandomForestClassifier and the parameter grid\n",
    "grid_search = GridSearchCV(estimator=rf, param_grid=param_grid, cv=5, n_jobs=-1, scoring='accuracy', verbose=2)\n",
    "\n",
    "# Fit the GridSearchCV object to the training data\n",
    "grid_search.fit(X_train, y_train)\n",
    "\n",
    "# Get the best estimator found by GridSearchCV\n",
    "best_rf = grid_search.best_estimator_\n",
    "\n",
    "# Make predictions on the test data using the best estimator\n",
    "y_pred = best_rf.predict(X_test)\n",
    "\n",
    "# Evaluate the model performance\n",
    "accuracy = accuracy_score(y_test, y_pred)\n",
    "print(f\"Best Parameters: {grid_search.best_params_}\")\n",
    "print(f\"Accuracy: {accuracy:.2f}\")"
   ]
  },
  {
   "cell_type": "markdown",
   "id": "65ea5882",
   "metadata": {},
   "source": [
    "- Best accuracy"
   ]
  },
  {
   "cell_type": "markdown",
   "id": "9afd6795",
   "metadata": {},
   "source": [
    "# Extract The Model Using Joblib"
   ]
  },
  {
   "cell_type": "markdown",
   "id": "70551ac8",
   "metadata": {},
   "source": [
    "## For Random Forest"
   ]
  },
  {
   "cell_type": "code",
   "execution_count": 438,
   "id": "37d41d0b",
   "metadata": {},
   "outputs": [
    {
     "data": {
      "text/plain": [
       "['RandomForest']"
      ]
     },
     "execution_count": 438,
     "metadata": {},
     "output_type": "execute_result"
    }
   ],
   "source": [
    "# Save the model\n",
    "joblib.dump(best_rf, 'RandomForest')"
   ]
  },
  {
   "cell_type": "code",
   "execution_count": 441,
   "id": "3a74cb25",
   "metadata": {},
   "outputs": [
    {
     "data": {
      "text/plain": [
       "RandomForestClassifier(bootstrap=False, min_samples_split=5, random_state=42)"
      ]
     },
     "execution_count": 441,
     "metadata": {},
     "output_type": "execute_result"
    }
   ],
   "source": [
    "# Load the model\n",
    "loaded_model = joblib.load('RandomForest')\n",
    "loaded_model"
   ]
  },
  {
   "cell_type": "code",
   "execution_count": null,
   "id": "9c82c637",
   "metadata": {},
   "outputs": [],
   "source": [
    "# Use the loaded model for predictions\n",
    "predictions = loaded_model.predict(X_test)\n",
    "predictions"
   ]
  },
  {
   "cell_type": "code",
   "execution_count": 440,
   "id": "c410d5dd",
   "metadata": {},
   "outputs": [
    {
     "data": {
      "text/plain": [
       "0.8967967967967968"
      ]
     },
     "execution_count": 440,
     "metadata": {},
     "output_type": "execute_result"
    }
   ],
   "source": [
    "result=loaded_model.score(X_test, y_test)\n",
    "result"
   ]
  },
  {
   "cell_type": "code",
   "execution_count": null,
   "id": "b401038e",
   "metadata": {},
   "outputs": [],
   "source": []
  }
 ],
 "metadata": {
  "kernelspec": {
   "display_name": "Python 3 (ipykernel)",
   "language": "python",
   "name": "python3"
  },
  "language_info": {
   "codemirror_mode": {
    "name": "ipython",
    "version": 3
   },
   "file_extension": ".py",
   "mimetype": "text/x-python",
   "name": "python",
   "nbconvert_exporter": "python",
   "pygments_lexer": "ipython3",
   "version": "3.9.12"
  }
 },
 "nbformat": 4,
 "nbformat_minor": 5
}
